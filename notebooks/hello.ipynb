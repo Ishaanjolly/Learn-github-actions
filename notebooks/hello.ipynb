{
 "cells": [
  {
   "cell_type": "code",
   "execution_count": null,
   "metadata": {},
   "outputs": [],
   "source": [
    "cd ../. "
   ]
  },
  {
   "cell_type": "code",
   "execution_count": null,
   "metadata": {},
   "outputs": [],
   "source": [
    "from scripts.hello import say_hello"
   ]
  },
  {
   "cell_type": "code",
   "execution_count": null,
   "metadata": {},
   "outputs": [],
   "source": [
    "def test_fun(n):\n",
    "    \"\"\"\n",
    "    random add values in a loop\n",
    "    \"\"\"\n",
    "    j = 0\n",
    "    for i in range(n):\n",
    "        j += i\n",
    "    return j"
   ]
  },
  {
   "cell_type": "code",
   "execution_count": null,
   "metadata": {},
   "outputs": [],
   "source": [
    "test_fun(5)"
   ]
  },
  {
   "cell_type": "code",
   "execution_count": null,
   "metadata": {},
   "outputs": [],
   "source": [
    "test_fun(3)"
   ]
  },
  {
   "cell_type": "code",
   "execution_count": null,
   "metadata": {},
   "outputs": [],
   "source": [
    "def calculate_sum(a, b):\n",
    "    total = 0\n",
    "    for i in range(a, b + 1):\n",
    "        total = total + i\n",
    "    if total > 0:\n",
    "        print(\"The total sum from \" + str(a) + \" to \" + str(b) + \" is: \" + str(total))\n",
    "    else:\n",
    "        print(\"No valid sum was calculated\")\n",
    "    return total\n",
    "\n",
    "\n",
    "calculate_sum(1, 10)"
   ]
  }
 ],
 "metadata": {
  "interpreter": {
   "hash": "b5bffdf0a645cfcd10afde3c5b9b93a5d9d8ce432293e3a9a7d347b183d40674"
  },
  "kernelspec": {
   "display_name": "Python 3.11.9 64-bit",
   "name": "python3"
  },
  "language_info": {
   "codemirror_mode": {
    "name": "ipython",
    "version": 3
   },
   "file_extension": ".py",
   "mimetype": "text/x-python",
   "name": "python",
   "nbconvert_exporter": "python",
   "pygments_lexer": "ipython3",
   "version": "3.11.9"
  }
 },
 "nbformat": 4,
 "nbformat_minor": 2
}
